{
 "cells": [
  {
   "cell_type": "markdown",
   "metadata": {},
   "source": [
    "# Bubblesort"
   ]
  },
  {
   "cell_type": "code",
   "execution_count": 1,
   "metadata": {},
   "outputs": [],
   "source": [
    "##############this contains bubblesort code\n",
    "def swapsort(test):\n",
    "    edited = False\n",
    "    for i in range((len(test)-1)):\n",
    "        if test[i] > test[i+1]:\n",
    "            tmp = test[i]\n",
    "            test[i] = test[i+1]\n",
    "            test[i+1] = tmp\n",
    "            edited = True\n",
    "    return test, edited\n",
    "\n",
    "def bubblesort(array):\n",
    "    edited = True\n",
    "    while edited == True:\n",
    "        array, edited = swapsort(array)\n",
    "    return array"
   ]
  },
  {
   "cell_type": "markdown",
   "metadata": {},
   "source": [
    "### I count:\n",
    "### 9 assignments\n",
    "### 3 conditionals"
   ]
  },
  {
   "cell_type": "markdown",
   "metadata": {},
   "source": [
    "### testing"
   ]
  },
  {
   "cell_type": "code",
   "execution_count": 2,
   "metadata": {},
   "outputs": [
    {
     "data": {
      "text/plain": [
       "[2, 3, 5, 6, 8]"
      ]
     },
     "execution_count": 2,
     "metadata": {},
     "output_type": "execute_result"
    }
   ],
   "source": [
    "#####testing\n",
    "###basic\n",
    "test = [5,2,8,3,6]\n",
    "bubblesort(test)"
   ]
  },
  {
   "cell_type": "code",
   "execution_count": 3,
   "metadata": {},
   "outputs": [
    {
     "data": {
      "text/plain": [
       "[]"
      ]
     },
     "execution_count": 3,
     "metadata": {},
     "output_type": "execute_result"
    }
   ],
   "source": [
    "#####testing\n",
    "###empty\n",
    "test = []\n",
    "bubblesort(test)"
   ]
  },
  {
   "cell_type": "code",
   "execution_count": 4,
   "metadata": {},
   "outputs": [
    {
     "data": {
      "text/plain": [
       "[5]"
      ]
     },
     "execution_count": 4,
     "metadata": {},
     "output_type": "execute_result"
    }
   ],
   "source": [
    "#####testing\n",
    "###single element\n",
    "test = [5]\n",
    "bubblesort(test)"
   ]
  },
  {
   "cell_type": "code",
   "execution_count": 5,
   "metadata": {},
   "outputs": [
    {
     "data": {
      "text/plain": [
       "[2, 2, 3, 5, 5, 6, 8, 8]"
      ]
     },
     "execution_count": 5,
     "metadata": {},
     "output_type": "execute_result"
    }
   ],
   "source": [
    "#####testing\n",
    "###duplicates : 2X 2 2X 5, 2X 8\n",
    "test = [5,2,2,8,8,3,6,5]\n",
    "bubblesort(test)"
   ]
  },
  {
   "cell_type": "code",
   "execution_count": 6,
   "metadata": {},
   "outputs": [
    {
     "data": {
      "text/plain": [
       "[2, 3, 5, 6, 8]"
      ]
     },
     "execution_count": 6,
     "metadata": {},
     "output_type": "execute_result"
    }
   ],
   "source": [
    "#####testing\n",
    "###odd length, even length\n",
    "test = [5,2,8,3,6]\n",
    "bubblesort(test)"
   ]
  },
  {
   "cell_type": "code",
   "execution_count": 7,
   "metadata": {},
   "outputs": [
    {
     "data": {
      "text/plain": [
       "[0.07, 2, 3, 5, 6, 8]"
      ]
     },
     "execution_count": 7,
     "metadata": {},
     "output_type": "execute_result"
    }
   ],
   "source": [
    "#####testing\n",
    "###odd length, even length\n",
    "test = [5,2,8,3,6,0.07]\n",
    "bubblesort(test)"
   ]
  },
  {
   "cell_type": "markdown",
   "metadata": {},
   "source": [
    "### time / complexity testing"
   ]
  },
  {
   "cell_type": "code",
   "execution_count": 8,
   "metadata": {},
   "outputs": [
    {
     "name": "stdout",
     "output_type": "stream",
     "text": [
      "100\n",
      "200\n",
      "300\n",
      "300\n",
      "okay so test list shapes are clear\n"
     ]
    }
   ],
   "source": [
    "import random\n",
    "\n",
    "#####create 2D array of size [100][100,200,300...1000]\n",
    "#####first val is number of reps, second is length of array\n",
    "test = []\n",
    "tmp2 = []\n",
    "tmp1 = []\n",
    "for i in range(100):\n",
    "    tmp2 = []\n",
    "    for j in range(10):\n",
    "        tmp1_size = 100*(j+1)\n",
    "        tmp1 = random.sample(range(1,5000),tmp1_size)\n",
    "        tmp2.append(tmp1)\n",
    "    test.append(tmp2)\n",
    "####show shapes\n",
    "print(len(test[0][0]))\n",
    "print(len(test[0][1]))\n",
    "print(len(test[0][2]))\n",
    "print(len(test[99][2]))\n",
    "######\n",
    "print('okay so test list shapes are clear')"
   ]
  },
  {
   "cell_type": "code",
   "execution_count": 9,
   "metadata": {},
   "outputs": [
    {
     "name": "stdout",
     "output_type": "stream",
     "text": [
      "okay so now I got the times\n"
     ]
    }
   ],
   "source": [
    "#######test vectors, print out runtimes\n",
    "import time\n",
    "\n",
    "def count_runtime(fn,fn_in):\n",
    "    start = time.time()\n",
    "    ####execute\n",
    "    fn(fn_in)\n",
    "    ####\n",
    "    end = time.time()\n",
    "    return(end-start)\n",
    "    \n",
    "#####times is an array of 10 lists\n",
    "times = []\n",
    "tmp1 = []\n",
    "tmp2 = []\n",
    "for j in range(10):\n",
    "    tmp1 = []\n",
    "    for i in range(100):\n",
    "        tmp_time = count_runtime(bubblesort,test[i][j])\n",
    "        tmp1.append(tmp_time)\n",
    "    times.append(tmp1)\n",
    "######\n",
    "print('okay so now I got the times')"
   ]
  },
  {
   "cell_type": "code",
   "execution_count": 14,
   "metadata": {},
   "outputs": [
    {
     "data": {
      "image/png": "[encoded data removed]",
      "text/plain": [
       "<Figure size 432x288 with 1 Axes>"
      ]
     },
     "metadata": {
      "needs_background": "light"
     },
     "output_type": "display_data"
    },
    {
     "data": {
      "image/png": "[encoded data removed]",
      "text/plain": [
       "<Figure size 432x288 with 1 Axes>"
      ]
     },
     "metadata": {
      "needs_background": "light"
     },
     "output_type": "display_data"
    },
    {
     "name": "stdout",
     "output_type": "stream",
     "text": [
      "okay so these are normalish\n"
     ]
    }
   ],
   "source": [
    "import matplotlib.pyplot as plt\n",
    "\n",
    "#####plot 100 length\n",
    "num_bins = 50\n",
    "n, bins, patches = plt.hist(times[0], num_bins, facecolor='blue', alpha=0.5)\n",
    "plt.show()\n",
    "#####plot 1000 length\n",
    "num_bins = 50\n",
    "n, bins, patches = plt.hist(times[9], num_bins, facecolor='blue', alpha=0.5)\n",
    "plt.show()\n",
    "#####\n",
    "print('okay so these are normalish')"
   ]
  },
  {
   "cell_type": "code",
   "execution_count": 11,
   "metadata": {},
   "outputs": [
    {
     "name": "stdout",
     "output_type": "stream",
     "text": [
      "0.0008521080017089844\n",
      "0.003389120101928711\n",
      "0.007903814315795898\n",
      "0.014550209045410156\n",
      "0.02435934543609619\n",
      "0.035567641258239746\n",
      "0.050331950187683105\n",
      "0.0654897689819336\n",
      "0.08208143711090088\n",
      "0.1050114631652832\n"
     ]
    }
   ],
   "source": [
    "#######plot median times\n",
    "import statistics as stats\n",
    "medians = []\n",
    "for i in range(10):\n",
    "    tmp_median = stats.median(times[i])\n",
    "    print(tmp_median)\n",
    "    medians.append(tmp_median)\n"
   ]
  },
  {
   "cell_type": "code",
   "execution_count": 12,
   "metadata": {},
   "outputs": [],
   "source": [
    "########find C constant\n",
    "def power(my_list,exp):\n",
    "    return [ x**exp for x in my_list ]\n",
    "\n",
    "import numpy as np\n",
    "c = medians[9]/(1000**2)\n",
    "#########define n's\n",
    "n = np.array([100,200,300,400,500,600,700,800,900,1000])\n",
    "######calculate theoreticals of C*n^2\n",
    "ideal_n2 = c * np.square(n)\n",
    "ideal_nlogn = c * n*(np.log(n))"
   ]
  },
  {
   "cell_type": "code",
   "execution_count": 13,
   "metadata": {},
   "outputs": [
    {
     "data": {
      "image/png": "[encoded data removed]",
      "text/plain": [
       "<Figure size 432x288 with 1 Axes>"
      ]
     },
     "metadata": {
      "needs_background": "light"
     },
     "output_type": "display_data"
    }
   ],
   "source": [
    "#########plot \n",
    "plt.plot(n, ideal_n2, 'bo',label='O(n^2)')\n",
    "plt.plot(n, medians, 'ro',label='Test Data')\n",
    "plt.plot(n, ideal_nlogn, 'go',label='O(nlog(n))')\n",
    "plt.legend(loc='upper left')\n",
    "plt.show()"
   ]
  },
  {
   "cell_type": "markdown",
   "metadata": {},
   "source": [
    "## the test data most closely approximates a O(n^2) model although it lies below the theoretical threshold of O(n^2)"
   ]
  }
 ],
 "metadata": {
  "kernelspec": {
   "display_name": "Python 3",
   "language": "python",
   "name": "python3"
  },
  "language_info": {
   "codemirror_mode": {
    "name": "ipython",
    "version": 3
   },
   "file_extension": ".py",
   "mimetype": "text/x-python",
   "name": "python",
   "nbconvert_exporter": "python",
   "pygments_lexer": "ipython3",
   "version": "3.7.2"
  }
 },
 "nbformat": 4,
 "nbformat_minor": 2
}
